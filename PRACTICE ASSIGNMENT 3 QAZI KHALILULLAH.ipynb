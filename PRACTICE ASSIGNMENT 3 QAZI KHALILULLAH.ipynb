{
 "cells": [
  {
   "cell_type": "markdown",
   "metadata": {},
   "source": [
    "# Q1:"
   ]
  },
  {
   "cell_type": "markdown",
   "metadata": {},
   "source": [
    "Think of at least three kinds of your favorite pizza. Store these pizza names in a list, and then use a for loop to print the name of each pizza."
   ]
  },
  {
   "cell_type": "code",
   "execution_count": 3,
   "metadata": {},
   "outputs": [
    {
     "name": "stdout",
     "output_type": "stream",
     "text": [
      "barbeque\n",
      "chicken fajita\n",
      "afghani tikka\n"
     ]
    }
   ],
   "source": [
    "flavor= [\"barbeque\", \"chicken fajita\", \"afghani tikka\"]\n",
    "for pizza in flavor:\n",
    "    print (pizza)\n",
    "    "
   ]
  },
  {
   "cell_type": "code",
   "execution_count": null,
   "metadata": {},
   "outputs": [],
   "source": []
  },
  {
   "cell_type": "code",
   "execution_count": null,
   "metadata": {},
   "outputs": [],
   "source": []
  },
  {
   "cell_type": "markdown",
   "metadata": {},
   "source": [
    "# Q2"
   ]
  },
  {
   "cell_type": "markdown",
   "metadata": {},
   "source": [
    "Start with your last question , Modify your for loop to print a sentence using the name of the pizza\n",
    "instead of printing just the name of the pizza. For each pizza you should\n",
    "have one line of output containing a simple statement like I like pepperoni\n",
    "pizza."
   ]
  },
  {
   "cell_type": "code",
   "execution_count": 22,
   "metadata": {},
   "outputs": [
    {
     "name": "stdout",
     "output_type": "stream",
     "text": [
      "cheese tikka\n",
      "\n",
      "\n",
      "cheese peperoni\n",
      "\n",
      "\n",
      "curry supreme\n",
      "\n",
      "\n",
      " I like cheese tikka pizza!\n",
      " I like cheese peperoni pizza!\n",
      " I like curry supreme pizza!\n"
     ]
    }
   ],
   "source": [
    "flavour=[\"cheese tikka\", \"cheese peperoni\", \"curry supreme\"]\n",
    "for pizza in flavour:\n",
    "    print(pizza)\n",
    "    \n",
    "    print (\"\\n\")\n",
    "for pizza in flavour:\n",
    "    print(\" I like\" \" \" + pizza + \" \" \"pizza!\") "
   ]
  },
  {
   "cell_type": "code",
   "execution_count": null,
   "metadata": {},
   "outputs": [],
   "source": []
  },
  {
   "cell_type": "markdown",
   "metadata": {},
   "source": [
    "# Q3:"
   ]
  },
  {
   "cell_type": "markdown",
   "metadata": {},
   "source": [
    "Use a for loop to print the numbers from 1 to 20,\n",
    "inclusive."
   ]
  },
  {
   "cell_type": "code",
   "execution_count": 27,
   "metadata": {},
   "outputs": [
    {
     "name": "stdout",
     "output_type": "stream",
     "text": [
      "1\n",
      "2\n",
      "3\n",
      "4\n",
      "5\n",
      "6\n",
      "7\n",
      "8\n",
      "9\n",
      "10\n",
      "11\n",
      "12\n",
      "13\n",
      "14\n",
      "15\n",
      "16\n",
      "17\n",
      "18\n",
      "19\n",
      "20\n"
     ]
    }
   ],
   "source": [
    "nums = list(range(1, 21))\n",
    "for num in nums:\n",
    "    print (num)"
   ]
  },
  {
   "cell_type": "code",
   "execution_count": 23,
   "metadata": {},
   "outputs": [
    {
     "name": "stdout",
     "output_type": "stream",
     "text": [
      "1\n",
      "2\n",
      "3\n",
      "4\n",
      "5\n",
      "6\n",
      "7\n",
      "8\n",
      "9\n",
      "10\n",
      "11\n",
      "12\n",
      "13\n",
      "14\n",
      "15\n",
      "16\n",
      "17\n",
      "18\n",
      "19\n",
      "20\n"
     ]
    }
   ],
   "source": [
    "for h in range(1,21):\n",
    "    print(h)"
   ]
  },
  {
   "cell_type": "code",
   "execution_count": null,
   "metadata": {},
   "outputs": [],
   "source": []
  },
  {
   "cell_type": "markdown",
   "metadata": {},
   "source": [
    "# Q4:"
   ]
  },
  {
   "cell_type": "markdown",
   "metadata": {},
   "source": [
    "Use the third argument of the range() function to make a list\n",
    "of the odd numbers from 1 to 20. Use a for loop to print each number."
   ]
  },
  {
   "cell_type": "code",
   "execution_count": 29,
   "metadata": {},
   "outputs": [
    {
     "name": "stdout",
     "output_type": "stream",
     "text": [
      "1\n",
      "3\n",
      "5\n",
      "7\n",
      "9\n",
      "11\n",
      "13\n",
      "15\n",
      "17\n",
      "19\n"
     ]
    }
   ],
   "source": [
    "for n in range(1,21,2):\n",
    "    print(n)"
   ]
  },
  {
   "cell_type": "code",
   "execution_count": null,
   "metadata": {},
   "outputs": [],
   "source": []
  },
  {
   "cell_type": "markdown",
   "metadata": {},
   "source": [
    "# Q5:"
   ]
  },
  {
   "cell_type": "markdown",
   "metadata": {},
   "source": [
    "Make a list of the multiples of 3 from 3 to 30. Use a for loop to\n",
    "print the numbers in your list."
   ]
  },
  {
   "cell_type": "code",
   "execution_count": 32,
   "metadata": {},
   "outputs": [
    {
     "data": {
      "text/plain": [
       "[9,\n",
       " 12,\n",
       " 15,\n",
       " 18,\n",
       " 21,\n",
       " 24,\n",
       " 27,\n",
       " 30,\n",
       " 33,\n",
       " 36,\n",
       " 39,\n",
       " 42,\n",
       " 45,\n",
       " 48,\n",
       " 51,\n",
       " 54,\n",
       " 57,\n",
       " 60,\n",
       " 63,\n",
       " 66,\n",
       " 69,\n",
       " 72,\n",
       " 75,\n",
       " 78,\n",
       " 81,\n",
       " 84,\n",
       " 87,\n",
       " 90]"
      ]
     },
     "execution_count": 32,
     "metadata": {},
     "output_type": "execute_result"
    }
   ],
   "source": [
    "multipleList = []\n",
    "for num in range(3,31):\n",
    "    multipleList.append(num*3)\n",
    "multipleList"
   ]
  },
  {
   "cell_type": "code",
   "execution_count": 33,
   "metadata": {},
   "outputs": [
    {
     "name": "stdout",
     "output_type": "stream",
     "text": [
      "3*3 = 9\n",
      "3*4 = 12\n",
      "3*5 = 15\n",
      "3*6 = 18\n",
      "3*7 = 21\n",
      "3*8 = 24\n",
      "3*9 = 27\n",
      "3*10 = 30\n",
      "3*11 = 33\n",
      "3*12 = 36\n",
      "3*13 = 39\n",
      "3*14 = 42\n",
      "3*15 = 45\n",
      "3*16 = 48\n",
      "3*17 = 51\n",
      "3*18 = 54\n",
      "3*19 = 57\n",
      "3*20 = 60\n",
      "3*21 = 63\n",
      "3*22 = 66\n",
      "3*23 = 69\n",
      "3*24 = 72\n",
      "3*25 = 75\n",
      "3*26 = 78\n",
      "3*27 = 81\n",
      "3*28 = 84\n",
      "3*29 = 87\n",
      "3*30 = 90\n"
     ]
    }
   ],
   "source": [
    "for v in range(3,31):\n",
    "    print(f\"{3}*{v} = {3*v}\")"
   ]
  },
  {
   "cell_type": "code",
   "execution_count": null,
   "metadata": {},
   "outputs": [],
   "source": []
  },
  {
   "cell_type": "code",
   "execution_count": null,
   "metadata": {},
   "outputs": [],
   "source": []
  },
  {
   "cell_type": "markdown",
   "metadata": {},
   "source": [
    "# Q6:"
   ]
  },
  {
   "cell_type": "markdown",
   "metadata": {},
   "source": [
    "A number raised to the third power is called a cube. For example,\n",
    "the cube of 2 is written as 2**3 in Python. Make a list of the first 10 cubes (that\n",
    "is, the cube of each integer from 1 through 10), and use a for loop to print out\n",
    "the value of each cube"
   ]
  },
  {
   "cell_type": "code",
   "execution_count": 34,
   "metadata": {},
   "outputs": [
    {
     "data": {
      "text/plain": [
       "[1, 8, 27, 64, 125, 216, 343, 512, 729, 1000]"
      ]
     },
     "execution_count": 34,
     "metadata": {},
     "output_type": "execute_result"
    }
   ],
   "source": [
    "qube = []\n",
    "for num in range(1,11):\n",
    "    qube.append(num**3)\n",
    "qube"
   ]
  },
  {
   "cell_type": "code",
   "execution_count": null,
   "metadata": {},
   "outputs": [],
   "source": []
  },
  {
   "cell_type": "markdown",
   "metadata": {},
   "source": [
    "# Q7:"
   ]
  },
  {
   "cell_type": "markdown",
   "metadata": {},
   "source": [
    "###### Make a python program that conatains your nine favourite dishes in a list called foods.\n",
    "\n",
    "###### Print the message, The first three items in the list are:. \n",
    "###### Then use a slice to print the first three items from that program’s list.\n",
    "\n",
    "###### Print the message, Three items from the middle of the list are:\n",
    "###### Use a slice to print three items from the middle of the list.\n",
    "\n",
    "###### Print the message, The last three items in the list are:\n",
    "###### Use a slice to print the last three items in the list."
   ]
  },
  {
   "cell_type": "code",
   "execution_count": 37,
   "metadata": {},
   "outputs": [
    {
     "name": "stdout",
     "output_type": "stream",
     "text": [
      "The first three items in the list are: \n",
      "['karahi', 'Daal', 'rice']\n",
      "The middle three items in the list are: \n",
      "['kurma', ' karahi', 'Pulao']\n",
      "The last three items in the list are: \n",
      "['chukandar', 'suji', 'pudding']\n"
     ]
    }
   ],
   "source": [
    "foods = [\"karahi\",\"Daal\",\"rice\",\"kurma\",\" karahi\",\"Pulao\",\"chukandar\",\"suji\",\"pudding\"]\n",
    "print(\"The first three items in the list are: \")\n",
    "umi = foods[0:3]\n",
    "print(umi)\n",
    "print(\"The middle three items in the list are: \")\n",
    "ui = foods[3:6]\n",
    "print(ui)\n",
    "print(\"The last three items in the list are: \")\n",
    "ft = foods[6:9]\n",
    "print(ft)"
   ]
  },
  {
   "cell_type": "code",
   "execution_count": null,
   "metadata": {},
   "outputs": [],
   "source": []
  },
  {
   "cell_type": "code",
   "execution_count": null,
   "metadata": {},
   "outputs": [],
   "source": []
  },
  {
   "cell_type": "markdown",
   "metadata": {},
   "source": [
    "# Q8:"
   ]
  },
  {
   "cell_type": "markdown",
   "metadata": {},
   "source": [
    "### Start with your program from your last Question8.\n",
    "###### Make a copy of the list of foods, and call it friend_foods.\n",
    "###### Then, do the following:\n",
    "######    Add a new dish to the original list.\n",
    "######    Add a different dish to the list friend_foodss.\n",
    "######    Prove that you have two separate lists. \n",
    "###### Print the message, My favorite pizzas are: and then use a for loop to print the first list. \n",
    "###### Print the message,\n",
    "###### My friend’s favorite foods are:, and then use a for loop to print the second list.\n",
    "    \n",
    "##### NOTE: Make sure each new dish is stored in the appropriate list."
   ]
  },
  {
   "cell_type": "code",
   "execution_count": 40,
   "metadata": {},
   "outputs": [
    {
     "name": "stdout",
     "output_type": "stream",
     "text": [
      "['karahi', 'Daal', 'rice', 'kurma', ' karahi', 'Pulao', 'chukandar', 'suji', 'pudding', 'keema aalo']\n",
      "['shami Kabab']\n",
      "My favourite pizzas are:  ['karahi', 'Daal', 'rice', 'kurma', ' karahi', 'Pulao', 'chukandar', 'suji', 'pudding', 'keema aalo']\n",
      "My favourite pizzas are:  ['karahi', 'Daal', 'rice', 'kurma', ' karahi', 'Pulao', 'chukandar', 'suji', 'pudding', 'keema aalo']\n",
      "My favourite pizzas are:  ['karahi', 'Daal', 'rice', 'kurma', ' karahi', 'Pulao', 'chukandar', 'suji', 'pudding', 'keema aalo']\n",
      "My favourite pizzas are:  ['karahi', 'Daal', 'rice', 'kurma', ' karahi', 'Pulao', 'chukandar', 'suji', 'pudding', 'keema aalo']\n",
      "My favourite pizzas are:  ['karahi', 'Daal', 'rice', 'kurma', ' karahi', 'Pulao', 'chukandar', 'suji', 'pudding', 'keema aalo']\n",
      "My favourite pizzas are:  ['karahi', 'Daal', 'rice', 'kurma', ' karahi', 'Pulao', 'chukandar', 'suji', 'pudding', 'keema aalo']\n",
      "My favourite pizzas are:  ['karahi', 'Daal', 'rice', 'kurma', ' karahi', 'Pulao', 'chukandar', 'suji', 'pudding', 'keema aalo']\n",
      "My favourite pizzas are:  ['karahi', 'Daal', 'rice', 'kurma', ' karahi', 'Pulao', 'chukandar', 'suji', 'pudding', 'keema aalo']\n",
      "My favourite pizzas are:  ['karahi', 'Daal', 'rice', 'kurma', ' karahi', 'Pulao', 'chukandar', 'suji', 'pudding', 'keema aalo']\n",
      "My favourite pizzas are:  ['karahi', 'Daal', 'rice', 'kurma', ' karahi', 'Pulao', 'chukandar', 'suji', 'pudding', 'keema aalo']\n",
      "My friend's favourite pizzas are:  ['shami Kabab']\n",
      "My friend's favourite pizzas are:  ['shami Kabab']\n",
      "My friend's favourite pizzas are:  ['shami Kabab']\n",
      "My friend's favourite pizzas are:  ['shami Kabab']\n",
      "My friend's favourite pizzas are:  ['shami Kabab']\n",
      "My friend's favourite pizzas are:  ['shami Kabab']\n",
      "My friend's favourite pizzas are:  ['shami Kabab']\n",
      "My friend's favourite pizzas are:  ['shami Kabab']\n",
      "My friend's favourite pizzas are:  ['shami Kabab']\n",
      "My friend's favourite pizzas are:  ['shami Kabab']\n"
     ]
    }
   ],
   "source": [
    "foods = [\"karahi\",\"Daal\",\"rice\",\"kurma\",\" karahi\",\"Pulao\",\"chukandar\",\"suji\",\"pudding\"]\n",
    "friends_food = []\n",
    "foods.append(\"keema aalo\")\n",
    "print(foods)\n",
    "friends_food.append(\"shami Kabab\")\n",
    "print(friends_food)\n",
    "for a in foods:\n",
    "    print(\"My favourite pizzas are: \",foods)\n",
    "for a in foods:\n",
    "    print(\"My friend's favourite pizzas are: \",friends_food)"
   ]
  },
  {
   "cell_type": "code",
   "execution_count": null,
   "metadata": {},
   "outputs": [],
   "source": []
  },
  {
   "cell_type": "code",
   "execution_count": null,
   "metadata": {},
   "outputs": [],
   "source": []
  },
  {
   "cell_type": "code",
   "execution_count": null,
   "metadata": {},
   "outputs": [],
   "source": []
  },
  {
   "cell_type": "code",
   "execution_count": null,
   "metadata": {},
   "outputs": [],
   "source": []
  },
  {
   "cell_type": "code",
   "execution_count": null,
   "metadata": {},
   "outputs": [],
   "source": [
    " "
   ]
  },
  {
   "cell_type": "code",
   "execution_count": null,
   "metadata": {},
   "outputs": [],
   "source": []
  },
  {
   "cell_type": "markdown",
   "metadata": {},
   "source": [
    "# Q9:"
   ]
  },
  {
   "cell_type": "markdown",
   "metadata": {},
   "source": [
    "Take a user input from console line.Store it in a variable called Alien_color.\n",
    "\n",
    "If the alien’s color is red, print a statement that the player just earned 5 points for shooting the alien.\n",
    "\n",
    "If the alien’s color isn’t green, print a statement that the player just earned 10 points.\n",
    "\n",
    "If the alien's color isn't red or green , print a statment :, Alien is no more....."
   ]
  },
  {
   "cell_type": "code",
   "execution_count": 41,
   "metadata": {},
   "outputs": [
    {
     "name": "stdout",
     "output_type": "stream",
     "text": [
      "Alien_color red\n",
      "The player just earned 5 points for shooting the alien\n"
     ]
    }
   ],
   "source": [
    "ai = input(\"Alien_color \")\n",
    "if ai == \"red\":\n",
    "    print(\"The player just earned 5 points for shooting the alien\")\n",
    "elif  ai == \"green\":\n",
    "    print(\"The player just earned 10 points for shooting the alien\")\n",
    "elif ai != \"red\" or a != \"green\":\n",
    "    print(\"Alien is no more\")\n"
   ]
  },
  {
   "cell_type": "code",
   "execution_count": null,
   "metadata": {},
   "outputs": [],
   "source": []
  },
  {
   "cell_type": "markdown",
   "metadata": {},
   "source": [
    "# Q10:"
   ]
  },
  {
   "cell_type": "markdown",
   "metadata": {},
   "source": [
    "Write an if-elif-else chain that determines a person’s\n",
    "stage of life. Set a value for the variable age, and then:\n",
    "    \n",
    "•\t If the person is less than 2 years old, print a message that the person is a baby.\n",
    "\n",
    "•\t If the person is at least 2 years old but less than 4, print a message that the person is a toddler.\n",
    "\n",
    "•\t If the person is at least 4 years old but less than 13, print a message that the person is a kid.\n",
    "\n",
    "•\t If the person is at least 13 years old but less than 20, print a message that the person is a teenager.\n",
    "\n",
    "•\t If the person is at least 20 years old but less than 65, print a message that the person is an adult.\n",
    "\n",
    "•\t If the person is age 65 or older, print a message that the person is an elder."
   ]
  },
  {
   "cell_type": "code",
   "execution_count": 42,
   "metadata": {},
   "outputs": [
    {
     "name": "stdout",
     "output_type": "stream",
     "text": [
      "Enter age 56\n",
      "the person is an adult\n"
     ]
    }
   ],
   "source": [
    "age = int(input(\"Enter age \"))\n",
    "if age < 2:\n",
    "    print(\"the person is a baby\")\n",
    "elif age > 2 and age < 4:\n",
    "    print(\"the person is a toddler\")\n",
    "elif age > 4 and age < 13:\n",
    "    print(\"the person is kid\")\n",
    "elif age > 13 and age < 20:\n",
    "    print(\"the person is a teenager\")\n",
    "elif age > 20 and age < 65:\n",
    "    print(\"the person is an adult\")\n",
    "elif age >= 65 :\n",
    "    print(\"the person is an elder\")\n"
   ]
  },
  {
   "cell_type": "code",
   "execution_count": null,
   "metadata": {},
   "outputs": [],
   "source": []
  },
  {
   "cell_type": "markdown",
   "metadata": {},
   "source": [
    "# Q11:"
   ]
  },
  {
   "cell_type": "markdown",
   "metadata": {},
   "source": [
    "Do the following to create a program that simulates how websites ensure that everyone has a unique username.\n",
    "\n",
    "•\t Make a list of five or more usernames called current_users.\n",
    "\n",
    "•\t Make another list of five usernames called new_users. \n",
    "Make sure one or two of the new usernames are also in the current_users list.\n",
    "\n",
    "•\t Loop through the new_users list to see if each new username has already been used. \n",
    "If it has, print a message that the person will need to enter a new username. \n",
    "If a username has not been used, print a message saying that the username is available.\n",
    "\n",
    "•\t Make sure your comparison is case insensitive. If 'John' has been used, 'JOHN' should not be accepted."
   ]
  },
  {
   "cell_type": "code",
   "execution_count": 43,
   "metadata": {},
   "outputs": [
    {
     "name": "stdout",
     "output_type": "stream",
     "text": [
      "Great!the username dani is available.\n",
      "Great!the username hadi is available.\n",
      "Great!the username umar is available.\n",
      "Great!the username mustafa is available.\n",
      "Great!the username bilal is available.\n"
     ]
    }
   ],
   "source": [
    "current_users = [\"alam\", \"saifullah\", \"samiullah\", \"zakiullah\", \"sumair\"]\n",
    "new_users = [\"dani\", \"hadi\", \"umar\", \"mustafa\", \"bilal\" ]\n",
    "\n",
    "\n",
    "current_users_lower = [x.lower() for x in current_users]\n",
    "new_users_lower = [x.lower() for x in new_users]\n",
    "\n",
    "for new_user in new_users_lower:\n",
    "    if new_user in current_users_lower:\n",
    "        print(f\"sorry! {new_user} that name is taken.\")\n",
    "    else:\n",
    "        print(f\"Great!the username {new_user} is available.\")\n",
    "    "
   ]
  },
  {
   "cell_type": "code",
   "execution_count": null,
   "metadata": {},
   "outputs": [],
   "source": []
  },
  {
   "cell_type": "code",
   "execution_count": null,
   "metadata": {},
   "outputs": [],
   "source": []
  },
  {
   "cell_type": "markdown",
   "metadata": {},
   "source": [
    "# Q12:"
   ]
  },
  {
   "cell_type": "markdown",
   "metadata": {},
   "source": [
    "Use a dictionary to store information about a person you know.\n",
    "Store their first name, last name, age, and the city in which they live. \n",
    "You should have keys such as first_name, last_name, age, and city. \n",
    "Print each piece of information stored in your dictionary"
   ]
  },
  {
   "cell_type": "code",
   "execution_count": 44,
   "metadata": {},
   "outputs": [
    {
     "name": "stdout",
     "output_type": "stream",
     "text": [
      "First Name: zaka\n",
      "Last Name: ashraf\n",
      "Age: 30\n",
      "City: karachi\n"
     ]
    }
   ],
   "source": [
    "person = {\n",
    "    'first_name': 'zaka',\n",
    "    'last_name': 'ashraf',\n",
    "    'age': 30,\n",
    "    'city':'karachi',\n",
    "}\n",
    "\n",
    "print(\"First Name: \" + person[\"first_name\"])\n",
    "print(\"Last Name: \" + person[\"last_name\"])\n",
    "print(\"Age: \" + str(person[\"age\"]))\n",
    "print(\"City: \" + person[\"city\"])   \n"
   ]
  },
  {
   "cell_type": "code",
   "execution_count": null,
   "metadata": {},
   "outputs": [],
   "source": []
  },
  {
   "cell_type": "code",
   "execution_count": null,
   "metadata": {},
   "outputs": [],
   "source": []
  },
  {
   "cell_type": "code",
   "execution_count": null,
   "metadata": {},
   "outputs": [],
   "source": []
  },
  {
   "cell_type": "markdown",
   "metadata": {},
   "source": [
    "# Q13:"
   ]
  },
  {
   "cell_type": "markdown",
   "metadata": {},
   "source": [
    "Starts with your last question 12 , loop through the dictionary’s keys and values.\n",
    "When you’re sure that your loop works, add five more Python terms to your\n",
    "dictionary . When you run your program again, these new words and meanings\n",
    "should automatically be included in the output."
   ]
  },
  {
   "cell_type": "code",
   "execution_count": 45,
   "metadata": {},
   "outputs": [
    {
     "name": "stdout",
     "output_type": "stream",
     "text": [
      "first_name: saman\n",
      "last_name: jamil\n",
      "age: 20\n",
      "city: karachi\n",
      "if: any condition\n",
      "break: to stop a loop\n",
      "for: for loop\n",
      "true: truth values\n",
      "and: logical operators\n"
     ]
    }
   ],
   "source": [
    "person = {\n",
    "    'first_name': \"saman\",\n",
    "    'last_name': \"jamil\",\n",
    "    'age': '20',\n",
    "    'city':\"karachi\",\n",
    "}\n",
    "\n",
    "person[\"if\"] = \"any condition\"\n",
    "person[\"break\"] = \"to stop a loop\"\n",
    "person[\"for\"] = \"for loop\"\n",
    "person[\"true\"]= \"truth values\"\n",
    "person[\"and\"]= \"logical operators\"\n",
    "\n",
    "for key, value in person.items():\n",
    "    print(key + \": \" + value)    "
   ]
  },
  {
   "cell_type": "code",
   "execution_count": null,
   "metadata": {},
   "outputs": [],
   "source": []
  },
  {
   "cell_type": "code",
   "execution_count": null,
   "metadata": {},
   "outputs": [],
   "source": []
  },
  {
   "cell_type": "markdown",
   "metadata": {},
   "source": [
    "# Q14:"
   ]
  },
  {
   "cell_type": "markdown",
   "metadata": {},
   "source": [
    "Make a dictionary containing three major rivers and the country\n",
    "each river runs through. One key-value pair might be 'nile': 'egypt'.\n",
    "    \n",
    "    \n",
    "•\t Use a loop to print a sentence about each river, such as The Nile runs\n",
    "through Egypt.\n",
    "\n",
    "NOTE: use upper case through keys and values."
   ]
  },
  {
   "cell_type": "code",
   "execution_count": 46,
   "metadata": {},
   "outputs": [
    {
     "name": "stdout",
     "output_type": "stream",
     "text": [
      "{'nile': 'egypt', 'ravi': 'pakistan', 'iraq': 'tigris'}\n",
      "The Nile runs through Egypt\n",
      "The Ravi runs through Pakistan\n",
      "The Tigris runs through Iraq\n",
      "The Nile runs through Egypt\n",
      "The Ravi runs through Pakistan\n",
      "The Tigris runs through Iraq\n",
      "The Nile runs through Egypt\n",
      "The Ravi runs through Pakistan\n",
      "The Tigris runs through Iraq\n"
     ]
    }
   ],
   "source": [
    "ft = {\"nile\":\"egypt\",\"ravi\":\"pakistan\",\"iraq\":\"tigris\"}\n",
    "print(ft)\n",
    "for charachter in ft: \n",
    "    print(\"The Nile runs through Egypt\")\n",
    "    print(\"The Ravi runs through Pakistan\")\n",
    "    print(\"The Tigris runs through Iraq\")"
   ]
  },
  {
   "cell_type": "code",
   "execution_count": null,
   "metadata": {},
   "outputs": [],
   "source": []
  },
  {
   "cell_type": "code",
   "execution_count": null,
   "metadata": {},
   "outputs": [],
   "source": []
  },
  {
   "cell_type": "markdown",
   "metadata": {},
   "source": [
    "# Q15:"
   ]
  },
  {
   "cell_type": "markdown",
   "metadata": {},
   "source": [
    "Make several dictionaries, where the name of each dictionary is the\n",
    "name of a pet. In each dictionary, include the kind of animal and the owner’s\n",
    "name. Store these dictionaries in a list called pets. Next, loop through your list\n",
    "and as you do print everything you know about each pet."
   ]
  },
  {
   "cell_type": "code",
   "execution_count": 47,
   "metadata": {},
   "outputs": [
    {
     "name": "stdout",
     "output_type": "stream",
     "text": [
      "Kind Mammal\n",
      "Owner Jason\n",
      " \n",
      "Kind Mammal\n",
      "Owner John\n",
      " \n",
      "Kind Sea Animal\n",
      "Owner Lisa\n",
      " \n",
      "Kind Bird\n",
      "Owner Mike\n",
      " \n"
     ]
    }
   ],
   "source": [
    "cat = {'Kind':'Mammal','Owner':'Jason'}\n",
    "dog = {'Kind':'Mammal','Owner':'John'}\n",
    "fish = {'Kind':'Sea Animal','Owner':'Lisa'}\n",
    "parrot = {'Kind':'Bird','Owner':'Mike'}\n",
    "pets = [cat,dog,fish,parrot]\n",
    "for i in pets:\n",
    "    for k,v in i.items():\n",
    "        print(k,v)\n",
    "    print(' ')\n"
   ]
  },
  {
   "cell_type": "code",
   "execution_count": null,
   "metadata": {},
   "outputs": [],
   "source": []
  }
 ],
 "metadata": {
  "kernelspec": {
   "display_name": "Python 3",
   "language": "python",
   "name": "python3"
  },
  "language_info": {
   "codemirror_mode": {
    "name": "ipython",
    "version": 3
   },
   "file_extension": ".py",
   "mimetype": "text/x-python",
   "name": "python",
   "nbconvert_exporter": "python",
   "pygments_lexer": "ipython3",
   "version": "3.7.3"
  }
 },
 "nbformat": 4,
 "nbformat_minor": 2
}
